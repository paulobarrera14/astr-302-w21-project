{
 "cells": [
  {
   "cell_type": "code",
   "execution_count": 1,
   "metadata": {},
   "outputs": [],
   "source": [
    "import astropy.units as u\n",
    "import matplotlib.pyplot as plt\n",
    "import pandas as pd\n",
    "from ipywidgets import FloatSlider, interact, fixed\n",
    "\n",
    "from einsteinpy.rays import Shadow\n",
    "from einsteinpy.plotting import ShadowPlotter"
   ]
  },
  {
   "cell_type": "code",
   "execution_count": 2,
   "metadata": {},
   "outputs": [],
   "source": [
    "mass = 1 * u.kg\n",
    "fov = 30 * u.km\n",
    "# What field of view is the user expecting"
   ]
  },
  {
   "cell_type": "code",
   "execution_count": 3,
   "metadata": {},
   "outputs": [],
   "source": [
    "def intensity_slider(mass, fov):\n",
    "    mass = mass\n",
    "    fov = fov\n",
    "    return (mass, fov)\n",
    "# What field of view is the user expecting"
   ]
  },
  {
   "cell_type": "code",
   "execution_count": 4,
   "metadata": {},
   "outputs": [],
   "source": [
    "def plot_intesity(mass,fov):\n",
    "    shadow = Shadow(mass=mass * u.kg, fov=fov * u.km, n_rays=1000)\n",
    "    obj = ShadowPlotter(shadow=shadow, is_line_plot=True)\n",
    "    obj.plot()\n",
    "    obj.show()"
   ]
  },
  {
   "cell_type": "code",
   "execution_count": 5,
   "metadata": {},
   "outputs": [],
   "source": [
    "def interactive_plot(mass, fov):\n",
    "    interact(plot_intesity, mass=(.1, 5, .1), fov=(1, 60, 1));"
   ]
  },
  {
   "cell_type": "code",
   "execution_count": 11,
   "metadata": {},
   "outputs": [
    {
     "data": {
      "application/vnd.jupyter.widget-view+json": {
       "model_id": "10f5cfbc67a84ed383143924895a15bc",
       "version_major": 2,
       "version_minor": 0
      },
      "text/plain": [
       "interactive(children=(FloatSlider(value=2.5000000000000004, description='mass', max=5.0, min=0.1), IntSlider(v…"
      ]
     },
     "metadata": {},
     "output_type": "display_data"
    }
   ],
   "source": [
    "# This plot shows the intensity of that light around the Black Hole. The smaller values are places with a lower intensity of light.\n",
    "# The larger numbers are places woth higher intensity of light. You can compare both plots when put to the same mass.\n",
    "\n",
    "interactive_plot(mass, fov);"
   ]
  },
  {
   "cell_type": "code",
   "execution_count": 7,
   "metadata": {},
   "outputs": [],
   "source": [
    "def plot_obj(mass,fov):\n",
    "    shadow = Shadow(mass=mass * u.kg, fov=fov * u.km, n_rays=1000)\n",
    "    obj = ShadowPlotter(shadow=shadow, is_line_plot=False)\n",
    "    obj.plot()\n",
    "    obj.show()"
   ]
  },
  {
   "cell_type": "code",
   "execution_count": 8,
   "metadata": {},
   "outputs": [],
   "source": [
    "def interactive_obj(mass, fov):\n",
    "    interact(plot_obj, mass=(.1, 5, .1), fov=(1, 60, 1));"
   ]
  },
  {
   "cell_type": "code",
   "execution_count": 10,
   "metadata": {},
   "outputs": [
    {
     "data": {
      "application/vnd.jupyter.widget-view+json": {
       "model_id": "f27e2ae38f2345839a0ad328582abda9",
       "version_major": 2,
       "version_minor": 0
      },
      "text/plain": [
       "interactive(children=(FloatSlider(value=2.5000000000000004, description='mass', max=5.0, min=0.1), IntSlider(v…"
      ]
     },
     "metadata": {},
     "output_type": "display_data"
    }
   ],
   "source": [
    "#The middle dark spot is the Event Horizon of the Black Hole, the color around is the light that is creating a two dimensional disk trapped by the gravity of the Black Hole.\n",
    "\n",
    "interactive_obj(mass, fov);"
   ]
  }
 ],
 "metadata": {
  "kernelspec": {
   "display_name": "Python 3 (einsteinpy)",
   "language": "python",
   "name": "einsteinpy"
  },
  "language_info": {
   "codemirror_mode": {
    "name": "ipython",
    "version": 3
   },
   "file_extension": ".py",
   "mimetype": "text/x-python",
   "name": "python",
   "nbconvert_exporter": "python",
   "pygments_lexer": "ipython3",
   "version": "3.8.8"
  }
 },
 "nbformat": 4,
 "nbformat_minor": 4
}
